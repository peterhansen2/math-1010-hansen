{
 "cells": [
  {
   "cell_type": "markdown",
   "id": "dying-spectrum",
   "metadata": {},
   "source": [
    "# Project Proposal\n",
    "## Chelpang Alhassan and Peter Hansen\n",
    "\n",
    "For our final project, we will be analyzing the Dolphin Social network. We have each read the abstract of the corresponding paper for which this data was originally collected, and if there was no corresponding paper we have researched the context of this dataset. We are interested in studying this network because we do not know much about the social networks of dolphins. We wonder if the networks are human-like and exist by the same rules of human networks. Additionally, this particular dolphin network is unlike others that have been studied because it is more stable hence we can learn what makes this network more stable than others.\n",
    "\n",
    "We have each read the project guidelines document. After reading the guidelines, we anticipate needing help with analyzing the data to come to conclusions about the nature of dolphin networks.\n",
    "\n",
    "We've decided on the following distribution of labor for our final project:\n",
    "* Chelpang Alhassan\n",
    "    * Making the graph\n",
    "    * Analyzing the graph\n",
    "* Peter Hansen\n",
    "    * Learning about the network\n",
    "    * Creating an adjacency matrix\n",
    "* All team members, equally\n",
    "    * Conclusions"
   ]
  }
 ],
 "metadata": {
  "kernelspec": {
   "display_name": "Python 3 (ipykernel)",
   "language": "python",
   "name": "python3"
  },
  "language_info": {
   "codemirror_mode": {
    "name": "ipython",
    "version": 3
   },
   "file_extension": ".py",
   "mimetype": "text/x-python",
   "name": "python",
   "nbconvert_exporter": "python",
   "pygments_lexer": "ipython3",
   "version": "3.9.7"
  }
 },
 "nbformat": 4,
 "nbformat_minor": 5
}
